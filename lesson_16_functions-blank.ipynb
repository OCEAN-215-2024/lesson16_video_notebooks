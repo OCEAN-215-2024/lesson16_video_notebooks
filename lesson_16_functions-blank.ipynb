{
 "cells": [
  {
   "cell_type": "markdown",
   "metadata": {
    "id": "aTOEP5lSjX3H"
   },
   "source": [
    "# Video Lesson \\#16\n",
    "\n",
    "## Part 1: Functions"
   ]
  },
  {
   "cell_type": "markdown",
   "metadata": {
    "id": "qP5PlnVT9jkj"
   },
   "source": [
    "### About this data: \n",
    "There are 6 netCDF files in the `ARGO_floatdata` folder. \\\n",
    "Each netCDF file corresponds to a single profile made by Argo float number 59011095. We will be using all of these files to learn __functions__.\n",
    "\n",
    "__File names:__\n",
    "- D59011095_185.nc\n",
    "- D59011095_186.nc\n",
    "- D59011095_187.nc\n",
    "- D59011095_188.nc\n",
    "- D59011095_189.nc\n",
    "- D59011095_190.nc"
   ]
  },
  {
   "cell_type": "code",
   "execution_count": 1,
   "metadata": {
    "colab": {
     "base_uri": "https://localhost:8080/"
    },
    "executionInfo": {
     "elapsed": 726,
     "status": "ok",
     "timestamp": 1606716773164,
     "user": {
      "displayName": "Katy Christensen",
      "photoUrl": "",
      "userId": "13309436073132227481"
     },
     "user_tz": 480
    },
    "id": "inNQpuVlhVuO",
    "outputId": "216e1270-d097-4572-aaca-f7d284fcdadc",
    "tags": []
   },
   "outputs": [],
   "source": [
    "# Import statements\n",
    "import numpy as np\n",
    "import xarray as xr\n",
    "import matplotlib.pyplot as plt"
   ]
  },
  {
   "cell_type": "markdown",
   "metadata": {
    "id": "CCOEEksej07A"
   },
   "source": [
    "### Old method using copy/paste"
   ]
  },
  {
   "cell_type": "code",
   "execution_count": 2,
   "metadata": {
    "executionInfo": {
     "elapsed": 802,
     "status": "ok",
     "timestamp": 1606716306634,
     "user": {
      "displayName": "Katy Christensen",
      "photoUrl": "",
      "userId": "13309436073132227481"
     },
     "user_tz": 480
    },
    "id": "loZCUmuXhfj3",
    "tags": []
   },
   "outputs": [],
   "source": [
    "filepath ='ARGO_floatdata/'\n",
    "filename = 'D5901105_185.nc'"
   ]
  },
  {
   "cell_type": "code",
   "execution_count": 3,
   "metadata": {
    "id": "ZGXTS4qDhkyL",
    "tags": []
   },
   "outputs": [],
   "source": [
    "# Import just one data file using xarray\n",
    "\n",
    "# Reformat the data to remove singleton dimensions\n",
    "\n",
    "# Get the lat and lon\n",
    "\n",
    "# Get the temperature and pressure"
   ]
  },
  {
   "cell_type": "code",
   "execution_count": 4,
   "metadata": {
    "id": "KqM7xHF3iK55",
    "tags": []
   },
   "outputs": [],
   "source": [
    "# Plot the temperature profile\n",
    "\n",
    "\n",
    "# Plot formatting: uncomment the lines below after creating your figure\n",
    "# ax.plot(T, P, color='k', ls='-', lw=2, marker='o', label='Temperature')\n",
    "# ax.invert_yaxis()\n",
    "# ax.grid()\n",
    "# ax.set_xlabel('Temperature (˚C)', fontsize=16)\n",
    "# ax.set_ylabel('Pressure (dbar)', fontsize=16)\n",
    "# ax.set_title('Temperature profile: '+filename.split('.')[0], fontsize=16)\n",
    "# ax.tick_params(axis='both', labelsize=16)\n",
    "\n",
    "# Save the figure\n"
   ]
  },
  {
   "cell_type": "markdown",
   "metadata": {
    "id": "YKHfiLJJj7vO"
   },
   "source": [
    "### New method using functions"
   ]
  },
  {
   "cell_type": "code",
   "execution_count": 5,
   "metadata": {
    "executionInfo": {
     "elapsed": 951,
     "status": "ok",
     "timestamp": 1606717451515,
     "user": {
      "displayName": "Katy Christensen",
      "photoUrl": "",
      "userId": "13309436073132227481"
     },
     "user_tz": 480
    },
    "id": "AtNa5XflihlR",
    "tags": []
   },
   "outputs": [],
   "source": [
    "# Create a function for reading the data\n",
    "\n",
    "\n",
    "# Create a function for plotting the temperature profile\n"
   ]
  },
  {
   "cell_type": "code",
   "execution_count": 6,
   "metadata": {
    "executionInfo": {
     "elapsed": 598,
     "status": "ok",
     "timestamp": 1606717455232,
     "user": {
      "displayName": "Katy Christensen",
      "photoUrl": "",
      "userId": "13309436073132227481"
     },
     "user_tz": 480
    },
    "id": "TVm35dZ0itFe",
    "tags": []
   },
   "outputs": [],
   "source": [
    "# Get the file information for all the files\n",
    "filepath = 'ARGO_floatdata/'\n",
    "filename = 'D5901105_186.nc'\n",
    "\n",
    "# filenames = ['D5901105_185.nc','D5901105_186.nc','D5901105_187.nc',\n",
    "#              'D5901105_188.nc','D5901105_189.nc','D5901105_190.nc']"
   ]
  },
  {
   "cell_type": "code",
   "execution_count": 7,
   "metadata": {
    "colab": {
     "base_uri": "https://localhost:8080/",
     "height": 1000
    },
    "executionInfo": {
     "elapsed": 3377,
     "status": "ok",
     "timestamp": 1606717494122,
     "user": {
      "displayName": "Katy Christensen",
      "photoUrl": "",
      "userId": "13309436073132227481"
     },
     "user_tz": 480
    },
    "id": "1fKXQEULjJkv",
    "outputId": "187ba218-6154-4ce7-d922-684f46976ab0",
    "tags": []
   },
   "outputs": [],
   "source": [
    "# Use the functions you just created in a for loop\n"
   ]
  }
 ],
 "metadata": {
  "colab": {
   "authorship_tag": "ABX9TyPZKsgmrtNnoMrd7XDKVpSq",
   "collapsed_sections": [
    "NgfXVBhtE409",
    "AAbUUxq90afN"
   ],
   "name": "2020-12-01 - Lesson 16 notebook.ipynb",
   "provenance": []
  },
  "kernelspec": {
   "display_name": "Python 3 (ipykernel)",
   "language": "python",
   "name": "python3"
  },
  "language_info": {
   "codemirror_mode": {
    "name": "ipython",
    "version": 3
   },
   "file_extension": ".py",
   "mimetype": "text/x-python",
   "name": "python",
   "nbconvert_exporter": "python",
   "pygments_lexer": "ipython3",
   "version": "3.10.10"
  }
 },
 "nbformat": 4,
 "nbformat_minor": 4
}
