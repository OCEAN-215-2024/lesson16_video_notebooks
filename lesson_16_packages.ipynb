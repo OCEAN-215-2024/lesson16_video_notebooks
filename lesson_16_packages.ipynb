{
 "cells": [
  {
   "cell_type": "markdown",
   "metadata": {
    "id": "aTOEP5lSjX3H"
   },
   "source": [
    "# Video Lesson \\#16\n",
    "\n",
    "## Part 2: Organization and packages"
   ]
  },
  {
   "cell_type": "markdown",
   "metadata": {
    "id": "NgfXVBhtE409"
   },
   "source": [
    "### Package management"
   ]
  },
  {
   "cell_type": "code",
   "execution_count": 1,
   "metadata": {
    "id": "rVYEdIS-E4Bm",
    "tags": []
   },
   "outputs": [
    {
     "name": "stdout",
     "output_type": "stream",
     "text": [
      "Collecting gsw\n",
      "  Downloading gsw-3.6.19-cp310-cp310-manylinux_2_17_x86_64.manylinux2014_x86_64.whl (2.4 MB)\n",
      "\u001b[2K     \u001b[90m━━━━━━━━━━━━━━━━━━━━━━━━━━━━━━━━━━━━━━━━\u001b[0m \u001b[32m2.4/2.4 MB\u001b[0m \u001b[31m28.6 MB/s\u001b[0m eta \u001b[36m0:00:00\u001b[0m00:01\u001b[0m0:01\u001b[0m\n",
      "\u001b[?25hRequirement already satisfied: numpy>=1.21 in /opt/conda/lib/python3.10/site-packages (from gsw) (1.26.0)\n",
      "Installing collected packages: gsw\n",
      "Successfully installed gsw-3.6.19\n"
     ]
    }
   ],
   "source": [
    "# Package management\n",
    "# Run this cell only once per notebook then comment it out.\n",
    "#-------------------------------------------------------------------------------\n",
    "# This code installs TEOS-10 gsw\n",
    "!pip install gsw"
   ]
  },
  {
   "cell_type": "code",
   "execution_count": 2,
   "metadata": {
    "executionInfo": {
     "elapsed": 2385,
     "status": "ok",
     "timestamp": 1606689085505,
     "user": {
      "displayName": "Katy Christensen",
      "photoUrl": "",
      "userId": "13309436073132227481"
     },
     "user_tz": 480
    },
    "id": "N7R-OklkFnDO",
    "tags": []
   },
   "outputs": [],
   "source": [
    "import numpy as np\n",
    "import xarray as xr\n",
    "import pandas as pd\n",
    "from scipy import stats, interpolate\n",
    "from datetime import datetime, timedelta\n",
    "import gsw\n",
    "\n",
    "import matplotlib.pyplot as plt\n",
    "import cmocean\n",
    "\n",
    "import cartopy.crs as ccrs\n",
    "import cartopy.feature as cfeature\n",
    "import matplotlib.ticker as mticker\n",
    "from cartopy.mpl.gridliner import LONGITUDE_FORMATTER, LATITUDE_FORMATTER"
   ]
  },
  {
   "cell_type": "code",
   "execution_count": 3,
   "metadata": {
    "id": "-WcDKOS4Hrqq",
    "tags": []
   },
   "outputs": [
    {
     "data": {
      "text/plain": [
       "['CT_first_derivatives',\n",
       " 'CT_first_derivatives_wrt_t_exact',\n",
       " 'CT_freezing',\n",
       " 'CT_freezing_first_derivatives',\n",
       " 'CT_freezing_first_derivatives_poly',\n",
       " 'CT_freezing_poly',\n",
       " 'CT_from_enthalpy',\n",
       " 'CT_from_enthalpy_exact',\n",
       " 'CT_from_entropy',\n",
       " 'CT_from_pt',\n",
       " 'CT_from_rho',\n",
       " 'CT_from_t',\n",
       " 'CT_maxdensity',\n",
       " 'CT_second_derivatives',\n",
       " 'C_from_SP',\n",
       " 'Fdelta',\n",
       " 'Helmholtz_energy_ice',\n",
       " 'Hill_ratio_at_SP2',\n",
       " 'IPV_vs_fNsquared_ratio',\n",
       " 'Nsquared',\n",
       " 'O2sol',\n",
       " 'O2sol_SP_pt',\n",
       " 'SAAR',\n",
       " 'SA_freezing_from_CT',\n",
       " 'SA_freezing_from_CT_poly',\n",
       " 'SA_freezing_from_t',\n",
       " 'SA_freezing_from_t_poly',\n",
       " 'SA_from_SP',\n",
       " 'SA_from_SP_Baltic',\n",
       " 'SA_from_Sstar',\n",
       " 'SA_from_rho',\n",
       " 'SP_from_C',\n",
       " 'SP_from_SA',\n",
       " 'SP_from_SA_Baltic',\n",
       " 'SP_from_SK',\n",
       " 'SP_from_SR',\n",
       " 'SP_from_Sstar',\n",
       " 'SP_salinometer',\n",
       " 'SR_from_SP',\n",
       " 'Sstar_from_SA',\n",
       " 'Sstar_from_SP',\n",
       " 'Turner_Rsubrho',\n",
       " '__builtins__',\n",
       " '__cached__',\n",
       " '__doc__',\n",
       " '__file__',\n",
       " '__loader__',\n",
       " '__name__',\n",
       " '__package__',\n",
       " '__path__',\n",
       " '__spec__',\n",
       " '__version__',\n",
       " '_fixed_wrapped_ufuncs',\n",
       " '_gsw_ufuncs',\n",
       " '_utilities',\n",
       " '_version',\n",
       " '_wrapped_ufuncs',\n",
       " 'adiabatic_lapse_rate_from_CT',\n",
       " 'adiabatic_lapse_rate_ice',\n",
       " 'alpha',\n",
       " 'alpha_on_beta',\n",
       " 'alpha_wrt_t_exact',\n",
       " 'alpha_wrt_t_ice',\n",
       " 'beta',\n",
       " 'beta_const_t_exact',\n",
       " 'cabbeling',\n",
       " 'chem_potential_water_ice',\n",
       " 'chem_potential_water_t_exact',\n",
       " 'conversions',\n",
       " 'cp_ice',\n",
       " 'cp_t_exact',\n",
       " 'deltaSA_atlas',\n",
       " 'deltaSA_from_SP',\n",
       " 'density',\n",
       " 'dilution_coefficient_t_exact',\n",
       " 'distance',\n",
       " 'dynamic_enthalpy',\n",
       " 'energy',\n",
       " 'enthalpy',\n",
       " 'enthalpy_CT_exact',\n",
       " 'enthalpy_SSO_0',\n",
       " 'enthalpy_diff',\n",
       " 'enthalpy_first_derivatives',\n",
       " 'enthalpy_first_derivatives_CT_exact',\n",
       " 'enthalpy_ice',\n",
       " 'enthalpy_second_derivatives',\n",
       " 'enthalpy_second_derivatives_CT_exact',\n",
       " 'enthalpy_t_exact',\n",
       " 'entropy_first_derivatives',\n",
       " 'entropy_from_CT',\n",
       " 'entropy_from_pt',\n",
       " 'entropy_from_t',\n",
       " 'entropy_ice',\n",
       " 'entropy_part',\n",
       " 'entropy_part_zerop',\n",
       " 'entropy_second_derivatives',\n",
       " 'f',\n",
       " 'frazil_properties',\n",
       " 'frazil_properties_potential',\n",
       " 'frazil_properties_potential_poly',\n",
       " 'frazil_ratios_adiabatic',\n",
       " 'frazil_ratios_adiabatic_poly',\n",
       " 'geo_strf_dyn_height',\n",
       " 'geostrophic_velocity',\n",
       " 'geostrophy',\n",
       " 'gibbs',\n",
       " 'gibbs_ice',\n",
       " 'gibbs_ice_part_t',\n",
       " 'gibbs_ice_pt0',\n",
       " 'gibbs_ice_pt0_pt0',\n",
       " 'gibbs_pt0_pt0',\n",
       " 'grav',\n",
       " 'ice',\n",
       " 'ice_fraction_to_freeze_seawater',\n",
       " 'indexer',\n",
       " 'infunnel',\n",
       " 'internal_energy',\n",
       " 'internal_energy_ice',\n",
       " 'kappa',\n",
       " 'kappa_const_t_ice',\n",
       " 'kappa_ice',\n",
       " 'kappa_t_exact',\n",
       " 'latentheat_evap_CT',\n",
       " 'latentheat_evap_t',\n",
       " 'latentheat_melting',\n",
       " 'match_args_return',\n",
       " 'melting_ice_SA_CT_ratio',\n",
       " 'melting_ice_SA_CT_ratio_poly',\n",
       " 'melting_ice_equilibrium_SA_CT_ratio',\n",
       " 'melting_ice_equilibrium_SA_CT_ratio_poly',\n",
       " 'melting_ice_into_seawater',\n",
       " 'melting_seaice_SA_CT_ratio',\n",
       " 'melting_seaice_SA_CT_ratio_poly',\n",
       " 'melting_seaice_equilibrium_SA_CT_ratio',\n",
       " 'melting_seaice_equilibrium_SA_CT_ratio_poly',\n",
       " 'melting_seaice_into_seawater',\n",
       " 'np',\n",
       " 'numpy',\n",
       " 'p_from_z',\n",
       " 'pchip_interp',\n",
       " 'pot_enthalpy_from_pt_ice',\n",
       " 'pot_enthalpy_from_pt_ice_poly',\n",
       " 'pot_enthalpy_ice_freezing',\n",
       " 'pot_enthalpy_ice_freezing_first_derivatives',\n",
       " 'pot_enthalpy_ice_freezing_first_derivatives_poly',\n",
       " 'pot_enthalpy_ice_freezing_poly',\n",
       " 'pot_rho_t_exact',\n",
       " 'pressure_coefficient_ice',\n",
       " 'pressure_freezing_CT',\n",
       " 'pt0_from_t',\n",
       " 'pt0_from_t_ice',\n",
       " 'pt_first_derivatives',\n",
       " 'pt_from_CT',\n",
       " 'pt_from_entropy',\n",
       " 'pt_from_pot_enthalpy_ice',\n",
       " 'pt_from_pot_enthalpy_ice_poly',\n",
       " 'pt_from_t',\n",
       " 'pt_from_t_ice',\n",
       " 'pt_second_derivatives',\n",
       " 'rho',\n",
       " 'rho_alpha_beta',\n",
       " 'rho_first_derivatives',\n",
       " 'rho_first_derivatives_wrt_enthalpy',\n",
       " 'rho_ice',\n",
       " 'rho_second_derivatives',\n",
       " 'rho_second_derivatives_wrt_enthalpy',\n",
       " 'rho_t_exact',\n",
       " 'seaice_fraction_to_freeze_seawater',\n",
       " 'sigma0',\n",
       " 'sigma1',\n",
       " 'sigma2',\n",
       " 'sigma3',\n",
       " 'sigma4',\n",
       " 'sound_speed',\n",
       " 'sound_speed_ice',\n",
       " 'sound_speed_t_exact',\n",
       " 'specvol',\n",
       " 'specvol_SSO_0',\n",
       " 'specvol_alpha_beta',\n",
       " 'specvol_anom_standard',\n",
       " 'specvol_first_derivatives',\n",
       " 'specvol_first_derivatives_wrt_enthalpy',\n",
       " 'specvol_ice',\n",
       " 'specvol_second_derivatives',\n",
       " 'specvol_second_derivatives_wrt_enthalpy',\n",
       " 'specvol_t_exact',\n",
       " 'spiciness0',\n",
       " 'spiciness1',\n",
       " 'spiciness2',\n",
       " 'stability',\n",
       " 't90_from_t68',\n",
       " 't_deriv_chem_potential_water_t_exact',\n",
       " 't_freezing',\n",
       " 't_freezing_first_derivatives',\n",
       " 't_freezing_first_derivatives_poly',\n",
       " 't_freezing_poly',\n",
       " 't_from_CT',\n",
       " 't_from_pt0_ice',\n",
       " 'thermobaric',\n",
       " 'utility',\n",
       " 'z_from_p']"
      ]
     },
     "execution_count": 3,
     "metadata": {},
     "output_type": "execute_result"
    }
   ],
   "source": [
    "dir(gsw)"
   ]
  },
  {
   "cell_type": "code",
   "execution_count": 4,
   "metadata": {
    "colab": {
     "base_uri": "https://localhost:8080/"
    },
    "executionInfo": {
     "elapsed": 377,
     "status": "ok",
     "timestamp": 1606690478841,
     "user": {
      "displayName": "Katy Christensen",
      "photoUrl": "",
      "userId": "13309436073132227481"
     },
     "user_tz": 480
    },
    "id": "K2pXBWyoMe5P",
    "outputId": "c90783f0-e9b3-4a9f-bc35-37b0e1fa46f9",
    "tags": []
   },
   "outputs": [
    {
     "name": "stdout",
     "output_type": "stream",
     "text": [
      "The Zen of Python, by Tim Peters\n",
      "\n",
      "Beautiful is better than ugly.\n",
      "Explicit is better than implicit.\n",
      "Simple is better than complex.\n",
      "Complex is better than complicated.\n",
      "Flat is better than nested.\n",
      "Sparse is better than dense.\n",
      "Readability counts.\n",
      "Special cases aren't special enough to break the rules.\n",
      "Although practicality beats purity.\n",
      "Errors should never pass silently.\n",
      "Unless explicitly silenced.\n",
      "In the face of ambiguity, refuse the temptation to guess.\n",
      "There should be one-- and preferably only one --obvious way to do it.\n",
      "Although that way may not be obvious at first unless you're Dutch.\n",
      "Now is better than never.\n",
      "Although never is often better than *right* now.\n",
      "If the implementation is hard to explain, it's a bad idea.\n",
      "If the implementation is easy to explain, it may be a good idea.\n",
      "Namespaces are one honking great idea -- let's do more of those!\n"
     ]
    }
   ],
   "source": [
    "import this"
   ]
  }
 ],
 "metadata": {
  "colab": {
   "authorship_tag": "ABX9TyPZKsgmrtNnoMrd7XDKVpSq",
   "collapsed_sections": [
    "NgfXVBhtE409",
    "AAbUUxq90afN"
   ],
   "name": "2020-12-01 - Lesson 16 notebook.ipynb",
   "provenance": []
  },
  "kernelspec": {
   "display_name": "Python 3 (ipykernel)",
   "language": "python",
   "name": "python3"
  },
  "language_info": {
   "codemirror_mode": {
    "name": "ipython",
    "version": 3
   },
   "file_extension": ".py",
   "mimetype": "text/x-python",
   "name": "python",
   "nbconvert_exporter": "python",
   "pygments_lexer": "ipython3",
   "version": "3.10.10"
  }
 },
 "nbformat": 4,
 "nbformat_minor": 4
}
